{
 "cells": [
  {
   "cell_type": "markdown",
   "metadata": {},
   "source": [
    "[slides](https://docs.google.com/presentation/d/19K9nVjuSOCrZGM6lmFeEEarTm2xZwDSiZEIzf-Ywr5o/edit?usp=sharing)\n",
    "\n",
    "[python-ecdsa docs](https://github.com/warner/python-ecdsa)"
   ]
  },
  {
   "cell_type": "markdown",
   "metadata": {},
   "source": [
    "# Signing our First Message with ECDSA"
   ]
  },
  {
   "cell_type": "code",
   "execution_count": 1,
   "metadata": {},
   "outputs": [],
   "source": [
    "from ecdsa import SigningKey, SECP256k1"
   ]
  },
  {
   "cell_type": "code",
   "execution_count": 2,
   "metadata": {},
   "outputs": [],
   "source": [
    "private_key = SigningKey.generate(curve=SECP256k1)"
   ]
  },
  {
   "cell_type": "code",
   "execution_count": 3,
   "metadata": {},
   "outputs": [],
   "source": [
    "public_key = private_key.get_verifying_key()"
   ]
  },
  {
   "cell_type": "code",
   "execution_count": 7,
   "metadata": {},
   "outputs": [],
   "source": [
    "message = b'I need Coffee'\n",
    "signature = private_key.sign(message)"
   ]
  },
  {
   "cell_type": "code",
   "execution_count": 11,
   "metadata": {},
   "outputs": [
    {
     "data": {
      "text/plain": [
       "True"
      ]
     },
     "execution_count": 11,
     "metadata": {},
     "output_type": "execute_result"
    }
   ],
   "source": [
    "public_key.verify(signature, message)"
   ]
  },
  {
   "cell_type": "markdown",
   "metadata": {},
   "source": [
    "# Defining ECDSACoin\n",
    "\n",
    "* A coin is just a list of transfers, just like with PNGCoin. \n",
    "    * Where transfers were photographs of signatures in PNGCoin, they are ECDSA digital signatures in ECDSACoin\n",
    "* The `public_key` in the last transfer is who owns the coin\n",
    "* To spend the coin append a new transfer. Use the public key of the person you are sending to, and sign it using your private key."
   ]
  },
  {
   "cell_type": "code",
   "execution_count": 20,
   "metadata": {},
   "outputs": [],
   "source": [
    "class Transfer:\n",
    "    \n",
    "    def __init__(self, signature, public_key):\n",
    "        self.signature = signature\n",
    "        self.public_key = public_key\n",
    "        \n",
    "class ECDSACoin:\n",
    "    \n",
    "    def __init__(self, transfers):\n",
    "        self.transfers = transfers"
   ]
  },
  {
   "cell_type": "code",
   "execution_count": 21,
   "metadata": {},
   "outputs": [],
   "source": [
    "# The usual suspects ... \n",
    "# SECP256k1 is a detail about the \"magical multiplication\" used under the covers\n",
    "\n",
    "bank_private_key = SigningKey.generate(curve=SECP256k1)\n",
    "bob_private_key = SigningKey.generate(curve=SECP256k1)\n",
    "alice_private_key = SigningKey.generate(curve=SECP256k1)\n",
    "\n",
    "bank_public_key = bank_private_key.get_verifying_key()\n",
    "bob_public_key = bob_private_key.get_verifying_key()\n",
    "alice_public_key = alice_private_key.get_verifying_key()"
   ]
  },
  {
   "cell_type": "markdown",
   "metadata": {},
   "source": [
    "# Validating the First Transfer"
   ]
  },
  {
   "cell_type": "code",
   "execution_count": 45,
   "metadata": {},
   "outputs": [],
   "source": [
    "from utils import serialize, deserialize\n",
    "\n",
    "def issue(public_key):\n",
    "    message = serialize(public_key)\n",
    "    \n",
    "    signature = bank_private_key.sign(message)\n",
    "    transfer = Transfer(signature, public_key)\n",
    "    \n",
    "    coin = ECDSACoin([transfer])\n",
    "    return coin"
   ]
  },
  {
   "cell_type": "markdown",
   "metadata": {},
   "source": [
    "# Validating Subsequent Transfers"
   ]
  },
  {
   "cell_type": "code",
   "execution_count": 46,
   "metadata": {},
   "outputs": [],
   "source": [
    "def validate(coin):\n",
    "    transfer = coin.transfers\n",
    "    message = serialize(transfer.public_key)\n",
    "    bank_public_key.verify(transfer.signature, message)"
   ]
  },
  {
   "cell_type": "code",
   "execution_count": 47,
   "metadata": {},
   "outputs": [],
   "source": [
    "alice_coin = issue(alice_public_key)"
   ]
  },
  {
   "cell_type": "code",
   "execution_count": 48,
   "metadata": {},
   "outputs": [
    {
     "ename": "AttributeError",
     "evalue": "'list' object has no attribute 'public_key'",
     "output_type": "error",
     "traceback": [
      "\u001b[0;31m---------------------------------------------------------------------------\u001b[0m",
      "\u001b[0;31mAttributeError\u001b[0m                            Traceback (most recent call last)",
      "\u001b[0;32m<ipython-input-48-52ef3c418824>\u001b[0m in \u001b[0;36m<module>\u001b[0;34m()\u001b[0m\n\u001b[0;32m----> 1\u001b[0;31m \u001b[0mvalidate\u001b[0m\u001b[0;34m(\u001b[0m\u001b[0malice_coin\u001b[0m\u001b[0;34m)\u001b[0m\u001b[0;34m\u001b[0m\u001b[0m\n\u001b[0m",
      "\u001b[0;32m<ipython-input-46-cbbcc708285d>\u001b[0m in \u001b[0;36mvalidate\u001b[0;34m(coin)\u001b[0m\n\u001b[1;32m      1\u001b[0m \u001b[0;32mdef\u001b[0m \u001b[0mvalidate\u001b[0m\u001b[0;34m(\u001b[0m\u001b[0mcoin\u001b[0m\u001b[0;34m)\u001b[0m\u001b[0;34m:\u001b[0m\u001b[0;34m\u001b[0m\u001b[0m\n\u001b[1;32m      2\u001b[0m     \u001b[0mtransfer\u001b[0m \u001b[0;34m=\u001b[0m \u001b[0mcoin\u001b[0m\u001b[0;34m.\u001b[0m\u001b[0mtransfers\u001b[0m\u001b[0;34m\u001b[0m\u001b[0m\n\u001b[0;32m----> 3\u001b[0;31m     \u001b[0mmessage\u001b[0m \u001b[0;34m=\u001b[0m \u001b[0mserialize\u001b[0m\u001b[0;34m(\u001b[0m\u001b[0mtransfer\u001b[0m\u001b[0;34m.\u001b[0m\u001b[0mpublic_key\u001b[0m\u001b[0;34m)\u001b[0m\u001b[0;34m\u001b[0m\u001b[0m\n\u001b[0m\u001b[1;32m      4\u001b[0m     \u001b[0mbank_public_key\u001b[0m\u001b[0;34m.\u001b[0m\u001b[0mverify\u001b[0m\u001b[0;34m(\u001b[0m\u001b[0mtransfer\u001b[0m\u001b[0;34m.\u001b[0m\u001b[0msignature\u001b[0m\u001b[0;34m,\u001b[0m \u001b[0mmessage\u001b[0m\u001b[0;34m)\u001b[0m\u001b[0;34m\u001b[0m\u001b[0m\n",
      "\u001b[0;31mAttributeError\u001b[0m: 'list' object has no attribute 'public_key'"
     ]
    }
   ],
   "source": [
    "validate(alice_coin)"
   ]
  },
  {
   "cell_type": "code",
   "execution_count": 49,
   "metadata": {},
   "outputs": [],
   "source": [
    "bob_message = serialize(bob_public_key)\n",
    "bob_signature = bob_private_key.sign(bob_message)\n",
    "fake_transfer = Transfer(bob_signature, bob_public_key)\n",
    "bob_fake_coin = ECDSACoin(fake_transfer)"
   ]
  },
  {
   "cell_type": "code",
   "execution_count": 50,
   "metadata": {},
   "outputs": [
    {
     "name": "stdout",
     "output_type": "stream",
     "text": [
      "Bad signature detected\n"
     ]
    }
   ],
   "source": [
    "from ecdsa import BadSignatureError\n",
    "\n",
    "try: \n",
    "    validate(bob_fake_coin)\n",
    "except BadSignatureError:\n",
    "    print(\"Bad signature detected\")"
   ]
  },
  {
   "cell_type": "code",
   "execution_count": 74,
   "metadata": {},
   "outputs": [],
   "source": [
    "def transfer_message(previous_signature, next_owner_public_key):\n",
    "\n",
    "    return serialize({\"previous_signature\":previous_signature,\n",
    "                     \"next_owner_public_key\":next_owner_public_key\n",
    "                     }\n",
    "                    )\n",
    "\n",
    "def validate(coin):\n",
    "    transfer = coin.transfers[0]\n",
    "    message = serialize(transfer.public_key)\n",
    "    bank_public_key.verify(transfer.signature, message)\n",
    "    \n",
    "    #check the rest\n",
    "    \n",
    "    previous_transfer = coin.transfers[0]\n",
    "    for next_transfer in coin.transfers[1:]:\n",
    "        message = transfer_message(previous_transfer.signature, next_transfer.public_key)\n",
    "        previous_transfer.public_key.verify(\n",
    "        next_transfer.signature, message\n",
    "        )"
   ]
  },
  {
   "cell_type": "code",
   "execution_count": 75,
   "metadata": {},
   "outputs": [],
   "source": [
    "def get_owner(coin):\n",
    "    database = {\n",
    "        serialize(bob_public_key): \"Bob\",\n",
    "        serialize(alice_public_key): \"Alice\",\n",
    "        serialize(bank_public_key): \"Bank\",\n",
    "    }\n",
    "    public_key = serialize(coin.transfers[-1].public_key)\n",
    "    return database[public_key]"
   ]
  },
  {
   "cell_type": "code",
   "execution_count": 76,
   "metadata": {},
   "outputs": [
    {
     "name": "stdout",
     "output_type": "stream",
     "text": [
      "This coin is owned by:  Alice\n"
     ]
    }
   ],
   "source": [
    "alice_coin = issue(alice_public_key)\n",
    "\n",
    "print(\"This coin is owned by: \", get_owner(alice_coin))"
   ]
  },
  {
   "cell_type": "code",
   "execution_count": 77,
   "metadata": {},
   "outputs": [],
   "source": [
    "message = transfer_message(alice_coin.transfers[0].signature, bob_public_key)\n",
    "alice_to_bob = Transfer(alice_private_key.sign(message),bob_public_key)\n",
    "\n",
    "alice_coin.transfers.append(alice_to_bob)"
   ]
  },
  {
   "cell_type": "code",
   "execution_count": 78,
   "metadata": {},
   "outputs": [
    {
     "name": "stdout",
     "output_type": "stream",
     "text": [
      "This coin is owned by:  Bob\n"
     ]
    }
   ],
   "source": [
    "print(\"This coin is owned by: \", get_owner(alice_coin))"
   ]
  },
  {
   "cell_type": "markdown",
   "metadata": {},
   "source": [
    "# Serialization"
   ]
  },
  {
   "cell_type": "code",
   "execution_count": 79,
   "metadata": {},
   "outputs": [],
   "source": [
    "from utils import to_disk, from_disk"
   ]
  },
  {
   "cell_type": "code",
   "execution_count": 80,
   "metadata": {},
   "outputs": [],
   "source": [
    "import os"
   ]
  },
  {
   "cell_type": "code",
   "execution_count": 81,
   "metadata": {},
   "outputs": [
    {
     "name": "stdout",
     "output_type": "stream",
     "text": [
      "Does coinfile exist? True\n"
     ]
    }
   ],
   "source": [
    "filename = \"coin.ecdsacoin\"\n",
    "print(\"Does coinfile exist?\", os.path.isfile(filename))"
   ]
  },
  {
   "cell_type": "code",
   "execution_count": 82,
   "metadata": {},
   "outputs": [],
   "source": [
    "coin = issue(alice_public_key)\n",
    "to_disk(coin, filename)"
   ]
  },
  {
   "cell_type": "code",
   "execution_count": 72,
   "metadata": {},
   "outputs": [
    {
     "name": "stdout",
     "output_type": "stream",
     "text": [
      "Does coinfile exist? True\n"
     ]
    }
   ],
   "source": [
    "print(\"Does coinfile exist?\", os.path.isfile(filename))"
   ]
  },
  {
   "cell_type": "markdown",
   "metadata": {},
   "source": [
    "# The Finished Product\n",
    "\n",
    "[ecdsacoin.py](ecdsacoin.py)"
   ]
  },
  {
   "cell_type": "code",
   "execution_count": 73,
   "metadata": {},
   "outputs": [],
   "source": [
    "import ecdsacoin\n",
    "\n",
    "coin = ecdsacoin.issue(alice_public_key)\n",
    "coin.validate()\n",
    "\n",
    "alice_to_bob = Transfer(\n",
    "    signature=alice_private_key.sign(transfer_message(coin.transfers[-1].signature, bob_public_key)),\n",
    "    public_key=bob_public_key,\n",
    ")\n",
    "\n",
    "coin.transfers.append(alice_to_bob)\n",
    "coin.validate()"
   ]
  },
  {
   "cell_type": "code",
   "execution_count": null,
   "metadata": {},
   "outputs": [],
   "source": []
  }
 ],
 "metadata": {
  "kernelspec": {
   "display_name": "Python 3",
   "language": "python",
   "name": "python3"
  },
  "language_info": {
   "codemirror_mode": {
    "name": "ipython",
    "version": 3
   },
   "file_extension": ".py",
   "mimetype": "text/x-python",
   "name": "python",
   "nbconvert_exporter": "python",
   "pygments_lexer": "ipython3",
   "version": "3.6.5"
  }
 },
 "nbformat": 4,
 "nbformat_minor": 2
}
